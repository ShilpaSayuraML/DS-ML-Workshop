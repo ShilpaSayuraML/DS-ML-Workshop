{
  "nbformat": 4,
  "nbformat_minor": 0,
  "metadata": {
    "colab": {
      "provenance": []
    },
    "kernelspec": {
      "name": "python3",
      "display_name": "Python 3"
    },
    "language_info": {
      "name": "python"
    }
  },
  "cells": [
    {
      "cell_type": "markdown",
      "source": [
        "### PCA (Principal Component Analysis)\n",
        " PCA is a dimensionality reduction technique commonly used in machine learning and data analysis to reduce the number of dimensions (or features) in a dataset while preserving most of the variability or information present in the data. PCA achieves dimensionality reduction by transforming the original features into a new set of orthogonal (uncorrelated) features called principal components."
      ],
      "metadata": {
        "id": "JTZqZE9tPVgs"
      }
    },
    {
      "cell_type": "markdown",
      "source": [
        "### Step 1: Load and Preprocess the Diabetes Dataset"
      ],
      "metadata": {
        "id": "Y1gmfLbnPjPL"
      }
    },
    {
      "cell_type": "code",
      "execution_count": 1,
      "metadata": {
        "id": "zhCH0P6KPMzp"
      },
      "outputs": [],
      "source": [
        "import numpy as np\n",
        "import pandas as pd\n",
        "from sklearn.datasets import load_diabetes\n",
        "from sklearn.model_selection import train_test_split\n",
        "from sklearn.preprocessing import StandardScaler\n",
        "\n",
        "# Load diabetes dataset\n",
        "diabetes = load_diabetes()\n",
        "X = diabetes.data\n",
        "y = diabetes.target\n",
        "\n",
        "# Split the dataset into training and test sets\n",
        "X_train, X_test, y_train, y_test = train_test_split(X, y, test_size=0.2, random_state=42)\n",
        "\n",
        "# Standardize the features\n",
        "scaler = StandardScaler()\n",
        "X_train_scaled = scaler.fit_transform(X_train)\n",
        "X_test_scaled = scaler.transform(X_test)\n"
      ]
    },
    {
      "cell_type": "markdown",
      "source": [
        "### Step 2: Apply PCA for Dimensionality Reduction"
      ],
      "metadata": {
        "id": "FDgEilXAPm7E"
      }
    },
    {
      "cell_type": "code",
      "source": [
        "from sklearn.decomposition import PCA\n",
        "\n",
        "# Apply PCA for dimensionality reduction\n",
        "pca = PCA(n_components=0.95)  # Retain 95% of variance\n",
        "X_train_pca = pca.fit_transform(X_train_scaled)\n",
        "X_test_pca = pca.transform(X_test_scaled)\n",
        "\n",
        "# Number of principal components retained\n",
        "print(\"Number of Principal Components:\", pca.n_components_)\n"
      ],
      "metadata": {
        "colab": {
          "base_uri": "https://localhost:8080/",
          "height": 0
        },
        "id": "o-t8nk6ePus5",
        "outputId": "86f4e6d4-eff0-4477-c832-f0614e7a582d"
      },
      "execution_count": 2,
      "outputs": [
        {
          "output_type": "stream",
          "name": "stdout",
          "text": [
            "Number of Principal Components: 8\n"
          ]
        }
      ]
    },
    {
      "cell_type": "markdown",
      "source": [
        "### Step 3: Use Random Forest for Feature Importance\n",
        "Finally, use Random Forest to identify the most significant features based on the PCA-transformed data."
      ],
      "metadata": {
        "id": "zHkdqSIVQGgQ"
      }
    },
    {
      "cell_type": "code",
      "source": [
        "from sklearn.ensemble import RandomForestRegressor\n",
        "\n",
        "# Train Random Forest on PCA-transformed training data\n",
        "rf = RandomForestRegressor(n_estimators=100, random_state=42)\n",
        "rf.fit(X_train_pca, y_train)\n",
        "\n",
        "# Feature importance based on Random Forest\n",
        "feature_importance = rf.feature_importances_\n",
        "sorted_indices = np.argsort(feature_importance)[::-1]  # Sort indices in descending order\n",
        "\n",
        "# Get names of the most important features\n",
        "most_important_features = [diabetes.feature_names[i] for i in sorted_indices]\n",
        "\n",
        "# Display the most important features\n",
        "print(\"Most Important Features:\")\n",
        "for feature in most_important_features:\n",
        "    print(feature)\n"
      ],
      "metadata": {
        "colab": {
          "base_uri": "https://localhost:8080/",
          "height": 0
        },
        "id": "T9G7nOO0QMig",
        "outputId": "d9d8f65a-2167-4b2f-e911-bb80681ca8ab"
      },
      "execution_count": 4,
      "outputs": [
        {
          "output_type": "stream",
          "name": "stdout",
          "text": [
            "Most Important Features:\n",
            "age\n",
            "bp\n",
            "bmi\n",
            "sex\n",
            "s3\n",
            "s1\n",
            "s4\n",
            "s2\n"
          ]
        }
      ]
    },
    {
      "cell_type": "code",
      "source": [
        "from sklearn.linear_model import LinearRegression\n",
        "\n",
        "from sklearn.metrics import mean_squared_error\n",
        "\n",
        "# Subset the dataset to include only the most important features\n",
        "X_train_selected = pd.DataFrame(X_train_scaled, columns=diabetes.feature_names)[most_important_features]\n",
        "X_test_selected = pd.DataFrame(X_test_scaled, columns=diabetes.feature_names)[most_important_features]\n",
        "\n",
        "# Train a Linear Regression model on the selected features\n",
        "#model = LinearRegression()\n",
        "\n",
        "\n",
        "# Train a Random Forest model on the selected features\n",
        "model= RandomForestRegressor(n_estimators=100, random_state=42)\n",
        "model.fit(X_train_selected, y_train)\n",
        "\n",
        "# Evaluate the model on the test set\n",
        "y_pred = model.predict(X_test_selected)\n",
        "mse = mean_squared_error(y_test, y_pred)\n",
        "print(\"Mean Squared Error:\", mse)"
      ],
      "metadata": {
        "colab": {
          "base_uri": "https://localhost:8080/",
          "height": 0
        },
        "id": "Tqfh6_YJR0c6",
        "outputId": "982bb56f-d278-4aba-86e0-dd0f6fcbd575"
      },
      "execution_count": 9,
      "outputs": [
        {
          "output_type": "stream",
          "name": "stdout",
          "text": [
            "Mean Squared Error (Linear Regression): 3406.370907865169\n"
          ]
        }
      ]
    },
    {
      "cell_type": "code",
      "source": [
        "# Perform inference (make predictions) using the trained model\n",
        "\n",
        "# Create new data (example: first 5 samples from the test set)\n",
        "new_data = X_test_scaled[:5, :]  # Use the scaled version of new data\n",
        "\n",
        "# Select the same subset of most important features for new data\n",
        "new_data_selected = pd.DataFrame(new_data, columns=diabetes.feature_names)[most_important_features]\n",
        "\n",
        "# Use the trained model to make predictions on the new data\n",
        "predictions = model.predict(new_data_selected)\n",
        "\n",
        "# Print the predictions\n",
        "print(\"Predictions for new data:\")\n",
        "for i, pred in enumerate(predictions):\n",
        "    print(f\"Sample {i+1}: Predicted Diabetes Progression = {pred:.2f}\")"
      ],
      "metadata": {
        "colab": {
          "base_uri": "https://localhost:8080/",
          "height": 0
        },
        "id": "eT2dr0nTS2V1",
        "outputId": "1c2272ca-3b72-46d1-bece-1f24c7e2394a"
      },
      "execution_count": 10,
      "outputs": [
        {
          "output_type": "stream",
          "name": "stdout",
          "text": [
            "Predictions for new data:\n",
            "Sample 1: Predicted Diabetes Progression = 173.33\n",
            "Sample 2: Predicted Diabetes Progression = 190.98\n",
            "Sample 3: Predicted Diabetes Progression = 131.37\n",
            "Sample 4: Predicted Diabetes Progression = 251.11\n",
            "Sample 5: Predicted Diabetes Progression = 140.90\n"
          ]
        }
      ]
    },
    {
      "cell_type": "markdown",
      "source": [
        "## PCA in classification"
      ],
      "metadata": {
        "id": "HRYR3aaNTVHx"
      }
    },
    {
      "cell_type": "code",
      "source": [
        "import numpy as np\n",
        "import pandas as pd\n",
        "from sklearn.datasets import load_diabetes\n",
        "from sklearn.model_selection import train_test_split\n",
        "from sklearn.preprocessing import StandardScaler\n",
        "from sklearn.decomposition import PCA\n",
        "from sklearn.ensemble import RandomForestClassifier\n",
        "from sklearn.metrics import accuracy_score, classification_report\n",
        "\n",
        "# Load diabetes dataset (binary classification task)\n",
        "diabetes = load_diabetes()\n",
        "X = diabetes.data\n",
        "y = (diabetes.target > 150).astype(int)  # Binary target based on diabetes progression threshold\n",
        "\n",
        "# Split the dataset into training and test sets\n",
        "X_train, X_test, y_train, y_test = train_test_split(X, y, test_size=0.2, random_state=42)\n",
        "\n",
        "# Standardize the features\n",
        "scaler = StandardScaler()\n",
        "X_train_scaled = scaler.fit_transform(X_train)\n",
        "X_test_scaled = scaler.transform(X_test)\n",
        "\n",
        "# Apply PCA for dimensionality reduction\n",
        "pca = PCA(n_components=0.95)  # Retain 95% of variance\n",
        "X_train_pca = pca.fit_transform(X_train_scaled)\n",
        "X_test_pca = pca.transform(X_test_scaled)\n",
        "\n",
        "# Train Random Forest classifier on PCA-transformed training data\n",
        "rf_classifier = RandomForestClassifier(n_estimators=100, random_state=42)\n",
        "rf_classifier.fit(X_train_pca, y_train)\n",
        "\n",
        "# Make predictions on the test set\n",
        "y_pred = rf_classifier.predict(X_test_pca)\n",
        "\n",
        "# Evaluate the classifier\n",
        "accuracy = accuracy_score(y_test, y_pred)\n",
        "print(\"Accuracy:\", accuracy)\n",
        "\n",
        "# Display classification report\n",
        "print(\"Classification Report:\")\n",
        "print(classification_report(y_test, y_pred))\n"
      ],
      "metadata": {
        "colab": {
          "base_uri": "https://localhost:8080/",
          "height": 0
        },
        "id": "BYuT-vXvTaD7",
        "outputId": "ea92a98c-dcc1-4770-c52a-e1f0a6b8c812"
      },
      "execution_count": 11,
      "outputs": [
        {
          "output_type": "stream",
          "name": "stdout",
          "text": [
            "Accuracy: 0.7415730337078652\n",
            "Classification Report:\n",
            "              precision    recall  f1-score   support\n",
            "\n",
            "           0       0.73      0.84      0.78        49\n",
            "           1       0.76      0.62      0.68        40\n",
            "\n",
            "    accuracy                           0.74        89\n",
            "   macro avg       0.74      0.73      0.73        89\n",
            "weighted avg       0.74      0.74      0.74        89\n",
            "\n"
          ]
        }
      ]
    },
    {
      "cell_type": "code",
      "source": [
        "import numpy as np\n",
        "import pandas as pd\n",
        "from sklearn.datasets import load_diabetes\n",
        "from sklearn.preprocessing import StandardScaler\n",
        "from sklearn.decomposition import PCA\n",
        "\n",
        "# Load diabetes dataset\n",
        "diabetes = load_diabetes()\n",
        "X = diabetes.data\n",
        "feature_names = diabetes.feature_names\n",
        "\n",
        "# Standardize the features\n",
        "scaler = StandardScaler()\n",
        "X_scaled = scaler.fit_transform(X)\n",
        "\n",
        "# Apply PCA\n",
        "pca = PCA(n_components=3)  # Choose the number of principal components\n",
        "X_pca = pca.fit_transform(X_scaled)\n",
        "\n",
        "# Get the principal component loadings\n",
        "principal_component_loadings = pca.components_\n",
        "\n",
        "# Identify the most important features for each principal component\n",
        "num_components = pca.n_components_\n",
        "most_important_features = []\n",
        "\n",
        "for i in range(num_components):\n",
        "    # Get the absolute values of loadings for the i-th principal component\n",
        "    abs_loadings = np.abs(principal_component_loadings[i])\n",
        "\n",
        "    # Sort the absolute loadings in descending order and get the corresponding feature names\n",
        "    sorted_indices = np.argsort(abs_loadings)[::-1]\n",
        "    important_features = [feature_names[idx] for idx in sorted_indices]\n",
        "\n",
        "    # Store the most important features for this principal component\n",
        "    most_important_features.append(important_features)\n",
        "\n",
        "# Print the most important features for each principal component\n",
        "for i in range(num_components):\n",
        "    print(f\"Most important features for Principal Component {i+1}:\")\n",
        "    print(most_important_features[i])\n",
        "    print()\n"
      ],
      "metadata": {
        "colab": {
          "base_uri": "https://localhost:8080/",
          "height": 0
        },
        "id": "U3FL3YUkUrgQ",
        "outputId": "fbed9462-ba07-4318-9f9d-d532ec03ed01"
      },
      "execution_count": 12,
      "outputs": [
        {
          "output_type": "stream",
          "name": "stdout",
          "text": [
            "Most important features for Principal Component 1:\n",
            "['s4', 's5', 's2', 's1', 's6', 'bmi', 's3', 'bp', 'age', 'sex']\n",
            "\n",
            "Most important features for Principal Component 2:\n",
            "['s1', 's3', 's2', 'sex', 'bmi', 'bp', 's6', 's4', 'age', 's5']\n",
            "\n",
            "Most important features for Principal Component 3:\n",
            "['bp', 'age', 's3', 's4', 's6', 's2', 'bmi', 'sex', 's1', 's5']\n",
            "\n"
          ]
        }
      ]
    },
    {
      "cell_type": "code",
      "source": [
        "explained_var_ratio = pca.explained_variance_ratio_\n",
        "cumulative_var_ratio = np.cumsum(explained_var_ratio)\n",
        "#elbow method\n",
        "import matplotlib.pyplot as plt\n",
        "\n",
        "plt.plot(np.arange(1, len(explained_var_ratio) + 1), cumulative_var_ratio, marker='o')\n",
        "plt.xlabel('Number of Components')\n",
        "plt.ylabel('Cumulative Explained Variance Ratio')\n",
        "plt.show()\n"
      ],
      "metadata": {
        "colab": {
          "base_uri": "https://localhost:8080/",
          "height": 449
        },
        "id": "L827PvA7VEm0",
        "outputId": "662364f4-212f-4034-b302-5a9d887cba30"
      },
      "execution_count": 14,
      "outputs": [
        {
          "output_type": "display_data",
          "data": {
            "text/plain": [
              "<Figure size 640x480 with 1 Axes>"
            ],
            "image/png": "[encoded data removed]"
          },
          "metadata": {}
        }
      ]
    },
    {
      "cell_type": "markdown",
      "source": [
        "Based on these lists and the elbow point indicating that 2 principal components capture a significant portion of the variance, we consider using 2 principal components for further analysis."
      ],
      "metadata": {
        "id": "-h7drM61V97p"
      }
    },
    {
      "cell_type": "code",
      "source": [
        "import numpy as np\n",
        "import pandas as pd\n",
        "from sklearn.datasets import load_diabetes\n",
        "from sklearn.preprocessing import StandardScaler\n",
        "from sklearn.decomposition import PCA\n",
        "from sklearn.model_selection import train_test_split\n",
        "from sklearn.ensemble import RandomForestClassifier\n",
        "from sklearn.metrics import accuracy_score, classification_report\n",
        "\n",
        "# Load diabetes dataset (binary classification task)\n",
        "diabetes = load_diabetes()\n",
        "X = diabetes.data\n",
        "y = (diabetes.target > 150).astype(int)  # Binary target based on diabetes progression threshold\n",
        "\n",
        "# Split the dataset into training and test sets\n",
        "X_train, X_test, y_train, y_test = train_test_split(X, y, test_size=0.2, random_state=42)\n",
        "\n",
        "# Standardize the features\n",
        "scaler = StandardScaler()\n",
        "X_train_scaled = scaler.fit_transform(X_train)\n",
        "X_test_scaled = scaler.transform(X_test)\n",
        "\n",
        "# Apply PCA with 2 components\n",
        "pca = PCA(n_components=2)\n",
        "X_train_pca = pca.fit_transform(X_train_scaled)\n",
        "X_test_pca = pca.transform(X_test_scaled)\n",
        "\n",
        "# Train a Random Forest classifier on the PCA-transformed training data\n",
        "rf_classifier = RandomForestClassifier(n_estimators=100, random_state=42)\n",
        "rf_classifier.fit(X_train_pca, y_train)\n",
        "\n",
        "# Make predictions on the test set\n",
        "y_pred = rf_classifier.predict(X_test_pca)\n",
        "\n",
        "# Evaluate the classifier\n",
        "accuracy = accuracy_score(y_test, y_pred)\n",
        "print(\"Accuracy:\", accuracy)\n",
        "\n",
        "# Display classification report\n",
        "print(\"Classification Report:\")\n",
        "print(classification_report(y_test, y_pred))\n"
      ],
      "metadata": {
        "colab": {
          "base_uri": "https://localhost:8080/",
          "height": 0
        },
        "id": "GnFvpVheVb8a",
        "outputId": "20fbd5d1-8d48-4488-fd8f-789fd124a9ea"
      },
      "execution_count": 15,
      "outputs": [
        {
          "output_type": "stream",
          "name": "stdout",
          "text": [
            "Accuracy: 0.6853932584269663\n",
            "Classification Report:\n",
            "              precision    recall  f1-score   support\n",
            "\n",
            "           0       0.70      0.76      0.73        49\n",
            "           1       0.67      0.60      0.63        40\n",
            "\n",
            "    accuracy                           0.69        89\n",
            "   macro avg       0.68      0.68      0.68        89\n",
            "weighted avg       0.68      0.69      0.68        89\n",
            "\n"
          ]
        }
      ]
    }
  ]
}